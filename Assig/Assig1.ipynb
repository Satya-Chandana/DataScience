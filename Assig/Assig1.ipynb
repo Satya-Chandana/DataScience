{
  "nbformat": 4,
  "nbformat_minor": 0,
  "metadata": {
    "colab": {
      "provenance": [],
      "collapsed_sections": []
    },
    "kernelspec": {
      "name": "python3",
      "display_name": "Python 3"
    },
    "language_info": {
      "name": "python"
    }
  },
  "cells": [
    {
      "cell_type": "code",
      "execution_count": null,
      "metadata": {
        "colab": {
          "base_uri": "https://localhost:8080/"
        },
        "id": "9W0ywCaz8R0s",
        "outputId": "60934964-f9a9-4809-863e-504f143f73db"
      },
      "outputs": [
        {
          "output_type": "stream",
          "name": "stdout",
          "text": [
            "('aman', '222', 777, 400.4)\n",
            "<class 'tuple'>\n"
          ]
        }
      ],
      "source": [
        "#1.\tGenerate a tuple from the set [\"aman\", \"222\", 777, 400.4]\n",
        "\n",
        "list1=[\"aman\", \"222\", 777, 400.4]\n",
        "tuple1=tuple(list1)\n",
        "print(tuple1)\n",
        "print(type(tuple1))"
      ]
    },
    {
      "cell_type": "code",
      "source": [
        "#2.\tCreate a dictionary of your basic data: (a) Roll No (b) Last Name \n",
        "#(c) First Name (d) Date of birth. Print out the values and keys.\n",
        "\n",
        "\n",
        "data={\n",
        "    \"rollNo\" : \"238\",\n",
        "    \"lastName\" : \"Satya\",\n",
        "    \"firstName\" : \"Mattaparti\",\n",
        "    \"DOB\" : \"Sept 24\"\n",
        "}\n",
        "\n",
        "print(data)\n",
        "print('Value :',data.values())\n",
        "print('Key :',data.keys())"
      ],
      "metadata": {
        "colab": {
          "base_uri": "https://localhost:8080/"
        },
        "id": "4HR8n2ip-wgI",
        "outputId": "9a031466-ca7a-4f69-e9ef-9e9015c90287"
      },
      "execution_count": null,
      "outputs": [
        {
          "output_type": "stream",
          "name": "stdout",
          "text": [
            "{'rollNo': '238', 'lastName': 'Satya', 'firstName': 'Mattaparti', 'DOB': 'Sept 24'}\n",
            "Value : dict_values(['238', 'Satya', 'Mattaparti', 'Sept 24'])\n",
            "Key : dict_keys(['rollNo', 'lastName', 'firstName', 'DOB'])\n"
          ]
        }
      ]
    },
    {
      "cell_type": "code",
      "source": [
        "#3.\tUse rand function to generate a 2-dimensional random array with seed.\n",
        "\n",
        "import numpy as np\n",
        "import random\n",
        "\n",
        "random.seed(10)\n",
        "array1=np.random.rand(2,2)\n",
        "print(\"2-D array:\",array1)\n"
      ],
      "metadata": {
        "colab": {
          "base_uri": "https://localhost:8080/"
        },
        "id": "RBkkLoVbAebN",
        "outputId": "cbb070c8-6a3f-4382-e680-365db69155f3"
      },
      "execution_count": null,
      "outputs": [
        {
          "output_type": "stream",
          "name": "stdout",
          "text": [
            "2-D array: [[0.23612945 0.54720754]\n",
            " [0.88164781 0.03276173]]\n"
          ]
        }
      ]
    },
    {
      "cell_type": "code",
      "source": [
        "#4.\tGenerate a single random number in [0.0, 1.0]. Find the absolute value of (-1234)\n",
        "\n",
        "import random\n",
        "\n",
        "numb=random.uniform(0.0,1.0)\n",
        "print(\"random:\",numb)\n",
        "\n",
        "import math \n",
        "num=-1234\n",
        "print(\"absolute:\",abs(num))\n",
        "\n"
      ],
      "metadata": {
        "colab": {
          "base_uri": "https://localhost:8080/"
        },
        "id": "R9fcFkbFCMqu",
        "outputId": "943692d3-b00f-427b-b816-2a93f3516363"
      },
      "execution_count": null,
      "outputs": [
        {
          "output_type": "stream",
          "name": "stdout",
          "text": [
            "random: 0.4288890546751146\n",
            "absolute: 1234\n"
          ]
        }
      ]
    },
    {
      "cell_type": "code",
      "source": [
        "#5.\tReturn a random integer N such that 20 <= N <= 90. \n",
        "\n",
        "import random \n",
        "\n",
        "num=random.randint(20,90)\n",
        "print(\"random num:\",num)"
      ],
      "metadata": {
        "colab": {
          "base_uri": "https://localhost:8080/"
        },
        "id": "fuFXGWoaEeux",
        "outputId": "a16884e2-4e9c-4e46-e70b-4be86635858c"
      },
      "execution_count": null,
      "outputs": [
        {
          "output_type": "stream",
          "name": "stdout",
          "text": [
            "random num: 73\n"
          ]
        }
      ]
    },
    {
      "cell_type": "code",
      "source": [
        "# 6.\tGiven a population or set[11, 12, 13,14, 15]\n",
        "# o\tReturn a 3 length list of unique elements without replacement.\n",
        "# o\tShuffle the above set\n",
        "# o\tPrint a random number from the set\n",
        "\n",
        "\n",
        "set1=[11, 12, 13,14, 15]\n",
        "print(\"3 length list:\",random.sample(set1,3))\n",
        "\n",
        "\n",
        "random.shuffle(set1)\n",
        "print(\"Shuffled set:\",set1)\n",
        "\n",
        "num=random.choice(set1)\n",
        "print(\"random number:\",num)\n",
        "\n"
      ],
      "metadata": {
        "colab": {
          "base_uri": "https://localhost:8080/"
        },
        "id": "gbHcDufYFcn4",
        "outputId": "5c3dd200-7e31-4f78-b590-7c4d80903dd0"
      },
      "execution_count": null,
      "outputs": [
        {
          "output_type": "stream",
          "name": "stdout",
          "text": [
            "3 length list: [15, 14, 12]\n",
            "Shuffled set: [15, 14, 13, 12, 11]\n",
            "random number: 15\n"
          ]
        }
      ]
    },
    {
      "cell_type": "code",
      "source": [
        "#7.\tWrite the text \"The King is Dead, Long Live The King\" on to a file in your hard drive; read and print the text.\n",
        "\n",
        "\n",
        "file=open(\"test.txt\",\"w\")\n",
        "file.write(\"The King is Dead, Long Live The King\")\n",
        "file.close()\n",
        "file=open(\"test.txt\",\"r\")\n",
        "for i in file:\n",
        "  print(i,end=\" \")\n"
      ],
      "metadata": {
        "colab": {
          "base_uri": "https://localhost:8080/"
        },
        "id": "usvG-WEDHhr2",
        "outputId": "84d77805-6e43-4858-9ee1-a8e51a916ee9"
      },
      "execution_count": 1,
      "outputs": [
        {
          "output_type": "stream",
          "name": "stdout",
          "text": [
            "The King is Dead, Long Live The King "
          ]
        }
      ]
    },
    {
      "cell_type": "code",
      "source": [
        "#8.\tCreate an illustrative function to demonstrate use of:\n",
        "# if, elif and else (b) for, while, break and continue.\n",
        "\n",
        "def fun1(marks,top):\n",
        "  sum=0\n",
        "  for i in range(0,len(marks)):\n",
        "    sum=sum+marks[i]\n",
        "  \n",
        "  avg=sum//len(marks)\n",
        "\n",
        "  if avg>=90:\n",
        "    print(\"A\")\n",
        "  elif avg>= 80 and avg<90:\n",
        "    print(\"B\")\n",
        "  elif avg>= 70 and avg<80:\n",
        "    print(\"C\")\n",
        "  elif avg<=50:\n",
        "    print(\"F\")\n",
        "  else:\n",
        "    print(\"P\")\n",
        "  \n",
        "  i=0\n",
        "  while(i<len(marks)):\n",
        "    if marks[i]>=90:\n",
        "      print(i+1,\"excellent in math\")\n",
        "      \n",
        "    elif marks[i]>= 80 and marks[i]<90:\n",
        "      print(i+1,\"good in math\")\n",
        "\n",
        "    else:\n",
        "      print(i+1,\"Can do better in math\")\n",
        "      break\n",
        "    i+=1\n",
        "  \n",
        "  \n",
        "mathmarks=[90,50,100]\n",
        "top=3\n",
        "fun1(mathmarks,top)\n"
      ],
      "metadata": {
        "colab": {
          "base_uri": "https://localhost:8080/"
        },
        "id": "1JwRJ1njJUxN",
        "outputId": "0f89661f-ca52-4fed-e78f-e3bc27983f15"
      },
      "execution_count": null,
      "outputs": [
        {
          "output_type": "stream",
          "name": "stdout",
          "text": [
            "B\n",
            "1 excellent in math\n",
            "2 Can do better in math\n"
          ]
        }
      ]
    },
    {
      "cell_type": "code",
      "source": [
        "# 9.\tGiven a string \"The King is Dead, Long Live The King\" \n",
        "# o\tPrint the complete string\n",
        "# o\tPrint first character of the string\n",
        "# o\tPrint characters starting from 3rd to 5th\n",
        "# o\tPrint string starting from 3rd character\n",
        "# o\tSplit the words\n",
        "\n",
        "string1=\"The King is Dead, Long Live The King\"\n",
        "print(string1)\n",
        "print(string1[0])\n",
        "\n",
        "print(string1[2:5])\n",
        "\n",
        "print(string1[3:])\n",
        "\n",
        "string=string1.split()\n",
        "print(string)\n"
      ],
      "metadata": {
        "colab": {
          "base_uri": "https://localhost:8080/"
        },
        "id": "eHmjhouKOxPJ",
        "outputId": "f5e1a305-3245-4c1c-9461-e24b5c14e3d3"
      },
      "execution_count": null,
      "outputs": [
        {
          "output_type": "stream",
          "name": "stdout",
          "text": [
            "The King is Dead, Long Live The King\n",
            "T\n",
            "e K\n",
            " King is Dead, Long Live The King\n",
            "['The', 'King', 'is', 'Dead,', 'Long', 'Live', 'The', 'King']\n"
          ]
        }
      ]
    },
    {
      "cell_type": "code",
      "source": [
        "\n",
        "# o\tAn array can be created from a list:  Create an array from a list comprising of numbers 1,4,5,8 (treat them as floats).Slice the above array to display first and second elements\n",
        "#10.\tArrays can be multidimensional. Create a two-dimensional array of (1,2,3) and (4,5,6).\n",
        "\n",
        "import numpy as np\n",
        "list1=[1,4,5,8]\n",
        "arr=np.array(list1,float)\n",
        "print(\"first and second elements:\",arr[0:2])\n",
        "\n",
        "arr1=[1,2,3]\n",
        "arr2=[4,5,6]\n",
        "\n",
        "arr3=np.array((arr1,arr2))\n",
        "print(\"2-D array:\",arr3)\n"
      ],
      "metadata": {
        "colab": {
          "base_uri": "https://localhost:8080/"
        },
        "id": "a17_b6Nlly6B",
        "outputId": "a6c7627c-e4bf-4770-b08a-615e6a7d6409"
      },
      "execution_count": null,
      "outputs": [
        {
          "output_type": "stream",
          "name": "stdout",
          "text": [
            "first and second elements: [1. 4.]\n",
            "2-D array: [[1 2 3]\n",
            " [4 5 6]]\n"
          ]
        }
      ]
    },
    {
      "cell_type": "code",
      "source": [
        "#11.\tArray slicing works with multiple dimensions in the same way as usual, applying each slice specification as a filter to a specified dimension. Consider two-dimensional array of (1,2,3) and (4,5,6).\n",
        "# o\tSlice and display the 2nd row.\n",
        "# o\tWrite code to display as array([2., 5.]) \n",
        "# o\tFind the length of the array\n",
        "\n",
        "\n",
        "import numpy as np\n",
        "\n",
        "arr=[[1,2,3],[4,5,6]]\n",
        "arr1=np.array(arr,float)\n",
        "print(\"second row:\",arr1[1,:])\n",
        "#print(arr1[(0,1),(1,1)])\n",
        "print(\"array([2., 5.]):\",arr1[:,1])\n",
        "print(\"length of array\",len(arr1))\n",
        "\n"
      ],
      "metadata": {
        "colab": {
          "base_uri": "https://localhost:8080/"
        },
        "id": "HxOc7F7oos_b",
        "outputId": "fc8417cc-9891-4ae1-9fb0-773f932f824e"
      },
      "execution_count": null,
      "outputs": [
        {
          "output_type": "stream",
          "name": "stdout",
          "text": [
            "second row: [4. 5. 6.]\n",
            "array([2., 5.]): [2. 5.]\n",
            "length of array 2\n"
          ]
        }
      ]
    },
    {
      "cell_type": "code",
      "source": [
        "#12.\tArrays can be reshaped using tuples that specify new dimensions. Turn a ten-element one-dimensional array into a two-dimensional one whose first\n",
        "# axis has five elements and whose second axis has two elements. Obtain the transpose of the array\n",
        "\n",
        "import numpy as np\n",
        "l1=[1,2,3,4,5,6,7,8,9,10]\n",
        "\n",
        "arr=np.array(l1)\n",
        "print(\"actual shape:\",arr.shape)\n",
        "\n",
        "narr=arr.reshape(2,5)\n",
        "print(\"re-shaped:\",narr.shape)\n",
        "print(\"transpose:\",narr.transpose())\n"
      ],
      "metadata": {
        "colab": {
          "base_uri": "https://localhost:8080/"
        },
        "id": "oKoU0Dcdqbb0",
        "outputId": "a8ff8605-fdd4-476e-bca8-23d3c675c3bb"
      },
      "execution_count": null,
      "outputs": [
        {
          "output_type": "stream",
          "name": "stdout",
          "text": [
            "actual shape: (10,)\n",
            "re-shaped: (2, 5)\n",
            "transpose: [[ 1  6]\n",
            " [ 2  7]\n",
            " [ 3  8]\n",
            " [ 4  9]\n",
            " [ 5 10]]\n"
          ]
        }
      ]
    },
    {
      "cell_type": "code",
      "source": [
        "#13.\tCreate an array from a list of 1,2 and 3.\n",
        "\n",
        "import numpy as np\n",
        "\n",
        "l1=[1,2,3]\n",
        "arr=np.array(l1)\n",
        "print(arr)\n",
        "print(type(arr))"
      ],
      "metadata": {
        "colab": {
          "base_uri": "https://localhost:8080/"
        },
        "id": "EABzcK1Dqu2O",
        "outputId": "fe342200-faac-4257-c376-3b69524c64c2"
      },
      "execution_count": null,
      "outputs": [
        {
          "output_type": "stream",
          "name": "stdout",
          "text": [
            "[1 2 3]\n",
            "<class 'numpy.ndarray'>\n"
          ]
        }
      ]
    },
    {
      "cell_type": "code",
      "source": [
        "#14.\tFill an array [1,2,3] with a single value [9,9,9]. \n",
        "import numpy as np\n",
        "\n",
        "l1=[1,2,3]\n",
        "arr=np.array(l1)\n",
        "arr[:]=9\n",
        "print(arr)"
      ],
      "metadata": {
        "colab": {
          "base_uri": "https://localhost:8080/"
        },
        "id": "2sS4Ohmoums4",
        "outputId": "39ef2b06-14b5-4463-fc80-d1a9ce1fbec6"
      },
      "execution_count": null,
      "outputs": [
        {
          "output_type": "stream",
          "name": "stdout",
          "text": [
            "[9 9 9]\n"
          ]
        }
      ]
    },
    {
      "cell_type": "code",
      "source": [
        "#15.\tSum the elements of array [2,4,5].\n",
        "import numpy as np\n",
        "l1=[2,4,5]\n",
        "arr=np.array(l1)\n",
        "print(\"sum:\",np.sum(arr))"
      ],
      "metadata": {
        "colab": {
          "base_uri": "https://localhost:8080/"
        },
        "id": "Bknc0yyIvMGf",
        "outputId": "b83bce46-fc5a-4708-b248-f4b0a336b5cd"
      },
      "execution_count": null,
      "outputs": [
        {
          "output_type": "stream",
          "name": "stdout",
          "text": [
            "sum: 11\n"
          ]
        }
      ]
    },
    {
      "cell_type": "code",
      "source": [
        "#16.\tGive the products of array [77,74,75]\n",
        "\n",
        "import numpy as np\n",
        "\n",
        "l1=[77,74,75]\n",
        "arr=np.array(l1)\n",
        "\n",
        "print(\"Product:\",np.product(arr))\n"
      ],
      "metadata": {
        "colab": {
          "base_uri": "https://localhost:8080/"
        },
        "id": "oR9c8Kpfvo0T",
        "outputId": "1a647008-f661-4d3e-ec50-2ae73e8e6b86"
      },
      "execution_count": null,
      "outputs": [
        {
          "output_type": "stream",
          "name": "stdout",
          "text": [
            "Product: 427350\n"
          ]
        }
      ]
    },
    {
      "cell_type": "code",
      "source": [
        "#17.\tGiven an array [2,1,9,1,2,22,1,1,4,55,6,2,56]. Find mean, variance, max, min, argmin, median, argmax and standard deviation.\n",
        "\n",
        "\n",
        "list1=[2,1,9,1,2,22,1,1,4,55,6,2,56]\n",
        "arr=np.array([list1])\n",
        "\n",
        "print(\"mean:\",np.mean(arr))\n",
        "print(\"median:\",np.median(arr))\n",
        "print(\"variance\",np.var(arr))\n",
        "print(\"max\",np.max(arr))\n",
        "print(\"min\",np.min(arr))\n",
        "print(\"argmin\",np.argmin(arr))\n",
        "print(\"argmax\",np.argmax(arr))\n",
        "print(\"standard deviation\",np.std(arr))\n"
      ],
      "metadata": {
        "colab": {
          "base_uri": "https://localhost:8080/"
        },
        "id": "elDJAZ1YwhyW",
        "outputId": "22b79e48-2622-4c37-c2bc-39859b174f53"
      },
      "execution_count": null,
      "outputs": [
        {
          "output_type": "stream",
          "name": "stdout",
          "text": [
            "mean: 12.461538461538462\n",
            "median: 2.0\n",
            "variance 367.32544378698225\n",
            "max 56\n",
            "min 1\n",
            "argmin 1\n",
            "argmax 12\n",
            "standard deviation 19.165736192147232\n"
          ]
        }
      ]
    },
    {
      "cell_type": "code",
      "source": [
        "#18.\tExtract unique elements from an array: [1, 1, 4, 5, 5, 5, 7] and sort it.\n",
        "import numpy as np\n",
        "\n",
        "l1=[1,1,4,5,5,5,7]\n",
        "\n",
        "arr=np.array(l1)\n",
        "\n",
        "print(\"unique:\",np.unique(arr))\n",
        "print(\"sorted:\",np.sort(np.unique(arr)))\n",
        "\n",
        "\n"
      ],
      "metadata": {
        "colab": {
          "base_uri": "https://localhost:8080/"
        },
        "id": "Z0ahwKIYxxhP",
        "outputId": "4fe99fa6-ebed-420b-e7f0-bdb4e055ad0e"
      },
      "execution_count": null,
      "outputs": [
        {
          "output_type": "stream",
          "name": "stdout",
          "text": [
            "unique: [1 4 5 7]\n",
            "sorted: [1 4 5 7]\n"
          ]
        }
      ]
    },
    {
      "cell_type": "code",
      "source": [
        "#19 Find dot product of two arrays [1, 2, 3]and [0, 1, 1]\n",
        "\n",
        "import numpy as np\n",
        "arr1=[1,2,3]\n",
        "arr2=[0,1,1]\n",
        "\n",
        "arr3=np.dot(arr1,arr2)\n",
        "print(\"dotproduct:\",arr3)"
      ],
      "metadata": {
        "colab": {
          "base_uri": "https://localhost:8080/"
        },
        "id": "RnLEdgd_zc25",
        "outputId": "34e00b82-5ad4-460e-e575-52ae394faf84"
      },
      "execution_count": null,
      "outputs": [
        {
          "output_type": "stream",
          "name": "stdout",
          "text": [
            "dotproduct: 5\n"
          ]
        }
      ]
    },
    {
      "cell_type": "code",
      "source": [
        "#20.\tFind the eigenvalues and eigenvectors of matrix A.\n",
        "\n",
        "\n"
      ],
      "metadata": {
        "id": "YtaQknRE24Re"
      },
      "execution_count": null,
      "outputs": []
    },
    {
      "cell_type": "code",
      "source": [
        "#21 . Given an array with [11, 22, 11, 31], [25, 33, 31, 28]]. Treat as floats. Find the correlation coefficients\n",
        "\n",
        "import numpy as np\n",
        "arr=[[11, 22, 11, 31], [25, 33, 31, 28]]\n",
        "arr1=np.array(arr,float)\n",
        "\n",
        "print(\"correlation coefficient:\",np.corrcoef(arr1))\n"
      ],
      "metadata": {
        "colab": {
          "base_uri": "https://localhost:8080/"
        },
        "id": "ljHVLiog1AOO",
        "outputId": "1d63e661-901e-46d0-baba-8eea1440db63"
      },
      "execution_count": null,
      "outputs": [
        {
          "output_type": "stream",
          "name": "stdout",
          "text": [
            "correlation coefficient: [[1.         0.15997968]\n",
            " [0.15997968 1.        ]]\n"
          ]
        }
      ]
    },
    {
      "cell_type": "markdown",
      "source": [],
      "metadata": {
        "id": "qKwycrhP-w7B"
      }
    }
  ]
}